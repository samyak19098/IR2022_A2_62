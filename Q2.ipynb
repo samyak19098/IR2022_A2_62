{
 "cells": [
  {
   "cell_type": "code",
   "execution_count": 95,
   "metadata": {},
   "outputs": [],
   "source": [
    "import numpy as np\n",
    "import math\n",
    "import matplotlib.pyplot as plt"
   ]
  },
  {
   "cell_type": "code",
   "execution_count": 84,
   "metadata": {},
   "outputs": [],
   "source": [
    "# file = open(\"data/IR-assignment-2-data.txt\", 'r')\n",
    "# lines = file.readlines()\n",
    "# query_url_pairs = []\n",
    "# for idx, line in enumerate(lines):\n",
    "#     line_toks = line.split()\n",
    "#     qid = line_toks[1]\n",
    "#     if(qid == 'qid:4'):\n",
    "#         query_url_pair_idx = idx\n",
    "#         relevance_label = int(line_toks[0])\n",
    "#         query_url_pairs.append((query_url_pair_idx, relevance_label))"
   ]
  },
  {
   "cell_type": "code",
   "execution_count": 85,
   "metadata": {},
   "outputs": [],
   "source": [
    "def readData(file_path):\n",
    "    file = open(file_path, 'r')\n",
    "    lines = file.readlines()\n",
    "    query_url_pairs = []\n",
    "    for idx, line in enumerate(lines):\n",
    "        line_toks = line.split()\n",
    "        qid = line_toks[1]\n",
    "        if(qid == 'qid:4'):\n",
    "            query_url_pair_idx = idx\n",
    "            relevance_label = int(line_toks[0])\n",
    "            data_row = line\n",
    "            query_url_pairs.append((query_url_pair_idx, relevance_label, data_row))\n",
    "    return query_url_pairs"
   ]
  },
  {
   "cell_type": "code",
   "execution_count": 86,
   "metadata": {},
   "outputs": [],
   "source": [
    "def make_max_dcg_file(query_url_pairs):\n",
    "    reverse_sorted_by_relevance = sorted(query_url_pairs, key=lambda x: x[1], reverse=True)\n",
    "    counts_by_relevance_label = {0 : 0, 1 : 0, 2 : 0, 3 : 0, 4 : 0}\n",
    "    max_dcg_file_lines = []\n",
    "    for qpr in query_url_pairs:\n",
    "        counts_by_relevance_label[qpr[1]] += 1\n",
    "        max_dcg_file_lines.append(qpr[2])\n",
    "    file_name = \"max_dcg_file.txt\"\n",
    "    # with open(file)\n",
    "    with open(file_name, 'w') as f:\n",
    "        f.writelines(max_dcg_file_lines)\n",
    "    num_max_dcg_files = 1\n",
    "    for lab in counts_by_relevance_label.keys():\n",
    "        num_max_dcg_files *= math.factorial(counts_by_relevance_label[lab])\n",
    "    \n",
    "    return file_name, reverse_sorted_by_relevance, num_max_dcg_files"
   ]
  },
  {
   "cell_type": "code",
   "execution_count": 87,
   "metadata": {},
   "outputs": [],
   "source": [
    "def compute_DCG(qu_pairs_data):\n",
    "    dcg_value = qu_pairs_data[0][1]\n",
    "    # print(len(qu_pairs_data))\n",
    "    for i in range(1, len(qu_pairs_data)):\n",
    "        # print(i)\n",
    "        dcg_value += (qu_pairs_data[i][1] / np.log2(i + 1))\n",
    "    return dcg_value\n"
   ]
  },
  {
   "cell_type": "code",
   "execution_count": 88,
   "metadata": {},
   "outputs": [],
   "source": [
    "def compute_nDCG(original_qu_pairs, sorted_qu_pairs, p):\n",
    "    dcg_p = compute_DCG(original_qu_pairs[:p])\n",
    "    idcg_p = compute_DCG(sorted_qu_pairs[:p])\n",
    "    ncdg_p = dcg_p / idcg_p\n",
    "    return ncdg_p"
   ]
  },
  {
   "cell_type": "markdown",
   "metadata": {},
   "source": [
    "Part 1,2,3"
   ]
  },
  {
   "cell_type": "code",
   "execution_count": 89,
   "metadata": {},
   "outputs": [
    {
     "name": "stdout",
     "output_type": "stream",
     "text": [
      "nDCG at 50 : 0.3521042740324887\n",
      "nDCG at whole dataset : 0.5979226516897831\n"
     ]
    }
   ],
   "source": [
    "file_path = \"data/IR-assignment-2-data.txt\"\n",
    "query_url_pairs = readData(file_path)\n",
    "num_data = len(query_url_pairs)\n",
    "max_dcg_file_name, sorted_qu_pairs, num_max_dcg_files = make_max_dcg_file(query_url_pairs)\n",
    "p_values = [50, num_data]\n",
    "for p in p_values:\n",
    "    nDCG_p = compute_nDCG(query_url_pairs, sorted_qu_pairs, p)\n",
    "    print(f\"nDCG at {p if p==50 else 'whole dataset'} : {nDCG_p}\")"
   ]
  },
  {
   "cell_type": "markdown",
   "metadata": {},
   "source": [
    "Part 4"
   ]
  },
  {
   "cell_type": "code",
   "execution_count": 90,
   "metadata": {},
   "outputs": [],
   "source": [
    "# query_url_pairs[0][2].split()[76].split(':')[1]\n",
    "qu_pairs_with_tf_idf_sum = []\n",
    "for qu_pair in query_url_pairs:\n",
    "    sum_tf_idf_doc = float(qu_pair[2].split()[76].split(':')[1])\n",
    "    qu_pairs_with_tf_idf_sum.append((qu_pair[0], qu_pair[1], sum_tf_idf_doc, qu_pair[2]))\n"
   ]
  },
  {
   "cell_type": "code",
   "execution_count": 91,
   "metadata": {},
   "outputs": [],
   "source": [
    "ranked_qu_pairs = sorted(qu_pairs_with_tf_idf_sum, key=lambda x : x[2], reverse=True)"
   ]
  },
  {
   "cell_type": "code",
   "execution_count": 92,
   "metadata": {},
   "outputs": [],
   "source": [
    "precision_k = []\n",
    "recall_k = []\n",
    "relevant_at_k = 0\n",
    "total_relevant = 0\n",
    "for rqpr in ranked_qu_pairs:\n",
    "    if(rqpr[1] != 0):\n",
    "        total_relevant += 1\n",
    "for i in range(len(ranked_qu_pairs)):\n",
    "    if(ranked_qu_pairs[i][1] != 0):\n",
    "        relevant_at_k += 1\n",
    "    p_k = relevant_at_k / (i + 1)\n",
    "    r_k = relevant_at_k / total_relevant\n",
    "    precision_k.append(p_k)\n",
    "    recall_k.append(r_k)"
   ]
  },
  {
   "cell_type": "code",
   "execution_count": 100,
   "metadata": {},
   "outputs": [
    {
     "data": {
      "image/png": "[encoded data removed]",
      "text/plain": [
       "<Figure size 432x288 with 1 Axes>"
      ]
     },
     "metadata": {
      "needs_background": "light"
     },
     "output_type": "display_data"
    }
   ],
   "source": [
    "plt.plot(recall_k, precision_k)\n",
    "plt.ylabel(\"precision\")\n",
    "plt.xlabel(\"recall\")\n",
    "plt.title(\"Precision-Recall Curve\")\n",
    "plt.show()"
   ]
  }
 ],
 "metadata": {
  "interpreter": {
   "hash": "2370e07001db70a9c24f7e21173c51fbc4321340913a02830aed4885459fa0a0"
  },
  "kernelspec": {
   "display_name": "Python 3.8.10 64-bit",
   "language": "python",
   "name": "python3"
  },
  "language_info": {
   "codemirror_mode": {
    "name": "ipython",
    "version": 3
   },
   "file_extension": ".py",
   "mimetype": "text/x-python",
   "name": "python",
   "nbconvert_exporter": "python",
   "pygments_lexer": "ipython3",
   "version": "3.8.10"
  },
  "orig_nbformat": 4
 },
 "nbformat": 4,
 "nbformat_minor": 2
}
