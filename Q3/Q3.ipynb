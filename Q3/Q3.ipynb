{
 "cells": [
  {
   "cell_type": "code",
   "execution_count": 90,
   "metadata": {},
   "outputs": [
    {
     "name": "stderr",
     "output_type": "stream",
     "text": [
      "[nltk_data] Downloading package stopwords to C:\\Users\\Samyak\n",
      "[nltk_data]     Jain\\AppData\\Roaming\\nltk_data...\n",
      "[nltk_data]   Package stopwords is already up-to-date!\n",
      "[nltk_data] Downloading package punkt to C:\\Users\\Samyak\n",
      "[nltk_data]     Jain\\AppData\\Roaming\\nltk_data...\n",
      "[nltk_data]   Package punkt is already up-to-date!\n",
      "[nltk_data] Downloading package wordnet to C:\\Users\\Samyak\n",
      "[nltk_data]     Jain\\AppData\\Roaming\\nltk_data...\n",
      "[nltk_data]   Package wordnet is already up-to-date!\n",
      "[nltk_data] Downloading package omw-1.4 to C:\\Users\\Samyak\n",
      "[nltk_data]     Jain\\AppData\\Roaming\\nltk_data...\n",
      "[nltk_data]   Package omw-1.4 is already up-to-date!\n"
     ]
    }
   ],
   "source": [
    "import os\n",
    "import nltk\n",
    "from nltk.tokenize import word_tokenize\n",
    "from nltk.corpus import stopwords\n",
    "import copy\n",
    "nltk.download('stopwords')\n",
    "nltk.download('punkt')\n",
    "nltk.download('wordnet')\n",
    "nltk.download('omw-1.4')\n",
    "import string\n",
    "import numpy as np\n",
    "import pandas as pd\n",
    "from tqdm import tqdm\n",
    "import pickle\n",
    "import contractions\n",
    "import random\n",
    "from collections import Counter\n",
    "from sklearn.metrics import accuracy_score, confusion_matrix\n",
    "import math\n",
    "import seaborn as sbn\n",
    "import matplotlib.pyplot as plt\n"
   ]
  },
  {
   "cell_type": "code",
   "execution_count": 91,
   "metadata": {},
   "outputs": [],
   "source": [
    "class_names = [\"comp.graphics\", \"sci.med\", \"talk.politics.misc\", \"rec.sport.hockey\", \"sci.space\"] #the five classes we have\n",
    "class_labels = [0, 1, 2, 3, 4] #assigning an integer label to each class\n",
    "class_name_to_label = {class_names[i]:i for i in range(len(class_names))} #class name to class label mapping\n",
    "class_label_to_name = {i:class_names[i] for i in range(len(class_names))} #class label to class name mapping\n",
    "data_folder = \"../data/20_newsgroups/20_newsgroups\""
   ]
  },
  {
   "cell_type": "code",
   "execution_count": 92,
   "metadata": {},
   "outputs": [],
   "source": [
    "def splitData(class_names, data_folder, train_ratio):\n",
    "    '''\n",
    "        This function is used for splitting the data into train and test parts according to the train-test ratio.\n",
    "    '''\n",
    "    class_wise_data = [] # A list of dictionaries to hold the training and testing documents for each class.\n",
    "    for i in range(len(class_names)):\n",
    "        class_dir = data_folder + '/' + class_names[i] #directory for that class in the data\n",
    "        file_names = os.listdir(class_dir) #file names in that class directory\n",
    "        n_docs_class = len(file_names) #number of docs in the class\n",
    "        shuffled_docs = random.sample(file_names, n_docs_class) #shuffle the documents in the class so that when splitting we take the documents randomly into train and test sets and not sequentially.\n",
    "        n_train = int(train_ratio * n_docs_class) #number of train set docs\n",
    "        n_test = n_docs_class - n_train #number of test set docs\n",
    "        train_docs_class = shuffled_docs[:n_train] #the documents in the training set\n",
    "        test_docs_class = shuffled_docs[n_train:] #the documents in the testing set\n",
    "        class_wise_data.append({'train' : train_docs_class, 'test' : test_docs_class}) #Appending the training and testing doc lists as a dictionary to the total class-wise dataset list\n",
    "    return class_wise_data"
   ]
  },
  {
   "cell_type": "code",
   "execution_count": 93,
   "metadata": {},
   "outputs": [],
   "source": [
    "def check_alnum(tok):\n",
    "    '''\n",
    "        Remove non-alphanumeric characters from a string\n",
    "    '''\n",
    "\n",
    "    tok = ''.join(ch for ch in tok if ch.isalnum() == True)\n",
    "    return tok\n",
    "\n",
    "def remove_punct(tok):\n",
    "    '''\n",
    "        Remove the punctuation in token\n",
    "    '''\n",
    "    punctuations = string.punctuation\n",
    "    tok = ''.join(ch for ch in tok if ch not in punctuations)\n",
    "    return tok\n",
    "\n",
    "def remove_blank_space(tok):\n",
    "    '''\n",
    "        Remove the spaces in token\n",
    "    '''\n",
    "    tok = ''.join(ch for ch in tok if ch != ' ')\n",
    "    return tok\n",
    "def preprocess(text):\n",
    "    '''\n",
    "        Preprocess the file text and converting to word tokens\n",
    "        Input: string File text\n",
    "        Returns file_tokens, word tokens for the pre processed text\n",
    "    '''\n",
    "    #converting text to lowercase\n",
    "    text = text.lower()\n",
    "\n",
    "    #Fixing the contractions\n",
    "    text = contractions.fix(text)\n",
    "\n",
    "    #Performing word tokenization\n",
    "    all_tokens = word_tokenize(text)\n",
    "\n",
    "    #Omitting all the non-alphanumeric characters in tokens\n",
    "    all_tokens = [check_alnum(tok) for tok in all_tokens]\n",
    "\n",
    "    #removing stopwords\n",
    "    stop_words = list(set(stopwords.words('english')))\n",
    "    all_tokens = [tok for tok in all_tokens if tok not in stop_words]\n",
    "\n",
    "    #removing punctations if any remain\n",
    "    toks_no_punct = []\n",
    "    for tok in all_tokens:\n",
    "        ctok = remove_punct(tok)\n",
    "        if(ctok != \"\"):\n",
    "            toks_no_punct.append(ctok)\n",
    "\n",
    "    #removing spaces in any remain\n",
    "    cleaned_toks = []\n",
    "    for tok in toks_no_punct:\n",
    "        ctok = remove_blank_space(tok)\n",
    "        if(ctok != \"\"):\n",
    "            cleaned_toks.append(ctok)\n",
    "    \n",
    "    #stemming\n",
    "    stemmer = nltk.PorterStemmer()\n",
    "    final_tokens = [stemmer.stem(tok) for tok in cleaned_toks]\n",
    "\n",
    "    # final_tokens = [tok for tok in cleaned_toks]\n",
    "\n",
    "    return final_tokens\n"
   ]
  },
  {
   "cell_type": "code",
   "execution_count": 94,
   "metadata": {},
   "outputs": [],
   "source": [
    "def process_data(class_wise_data, class_labels):\n",
    "    '''\n",
    "        This function takes the input of class_wise_data which is a list of dicts containing the training and testing set documents \n",
    "        belonging to each class. It returns three dictionaries: class_wise_tokens - nested dictionary with the outer dictionary having the\n",
    "        key as the class_label and the value as another dictionary that contains the tokens for each preprocessed document in the training and testing \n",
    "        set of that class ; class_wise_train_unique_tokens - A dictionary with key as the class_label and value is a list of all the unique tokens present \n",
    "        in the documents of that particular class; class_wise_train_tfs -  A dictionary with key as the class_label and value is a a dictionary which has the\n",
    "        term frequencies of all the unique terms in that class.\n",
    "    '''\n",
    "    class_wise_train_unique_tokens = {} #A dictionary with key as the class_label and value is a list of all the unique tokens present in the documents of that particular class\n",
    "    class_wise_tokens = {i: {'train' : [], 'test': []} for i in range(5)} #nested dictionary with the outer dictionary having the key as the class_label and the value as another dictionary that contains the tokens for each preprocessed document in the training and testing  set of that class\n",
    "    class_wise_train_tfs = {} #A dictionary with key as the class_label and value is a a dictionary which has the term frequencies of all the unique terms in that class\n",
    "    for label in tqdm(class_labels): #loop over all the class_labels\n",
    "        class_train_data = class_wise_data[label]['train'] #training set docs of that class\n",
    "        class_test_data = class_wise_data[label]['test'] #testing set docs of that class\n",
    "        class_train_tokens = [] #the document wise tokens for the training set docs in that class\n",
    "        for doc in class_train_data:\n",
    "            f = open(data_folder + '/' + class_label_to_name[label] + '/' + doc, encoding='utf-8', errors='ignore')\n",
    "            ftxt_unproc = f.read()\n",
    "            doc_toks = preprocess(ftxt_unproc) #preprocess the document to get tokens for that document\n",
    "            class_train_tokens.append(doc_toks)\n",
    "        class_wise_tokens[label]['train'] = class_train_tokens\n",
    "        class_test_tokens = [] #the document wise tokens for the testing set docs in that class\n",
    "        for doc in class_test_data:\n",
    "            f = open(data_folder + '/' + class_label_to_name[label] + '/' + doc, encoding='utf-8', errors='ignore')\n",
    "            ftxt_unproc = f.read()\n",
    "            doc_toks = preprocess(ftxt_unproc) #preprocess the document to get tokens for that document\n",
    "            class_test_tokens.append(doc_toks)\n",
    "        class_wise_tokens[label]['test'] = class_test_tokens\n",
    "\n",
    "        all_class_train_tokens = [] #all the tokens across all the training documents of the aparticular class\n",
    "        for doc_toks in class_train_tokens: #loop over all training doc's token lists\n",
    "            for tok in doc_toks:\n",
    "                all_class_train_tokens.append(tok)\n",
    "        class_tfs = dict(Counter(all_class_train_tokens)) #the term frequency for the terms in all the training document combined in that particular class.\n",
    "        #Note that here, term frequency of a term in a class is number of occurrences of a term in all documents (here train) of a particular class\n",
    "        class_wise_train_tfs[label] = class_tfs\n",
    "        class_wise_train_unique_tokens[label] = list(set(all_class_train_tokens)) #the unique tokens present across all the training docs combined of that particular class\n",
    "    return class_wise_tokens, class_wise_train_unique_tokens, class_wise_train_tfs\n",
    "\n",
    "def compute_icf(class_wise_unq_toks):\n",
    "    '''\n",
    "        This function computes the icf all the tokens present int the training set documents.\n",
    "    '''\n",
    "    all_class_toks = {} # Dictionary which holds the tokens present in train docs over all classes as keys. The value for each key is a list of all the classes the token/term appears in.\n",
    "    for label in class_labels: #iterate over all classes\n",
    "        for tok in class_wise_unq_toks[label]: #iterate over all the unique tokens of each class\n",
    "            if(tok in all_class_toks.keys()): #if token is present in the all_class_toks\n",
    "                all_class_toks[tok].append(label) #append current class' label to its list\n",
    "            else:\n",
    "                all_class_toks[tok] = [label] #else initialize its list\n",
    "    num_classes = len(class_labels) #number of classes\n",
    "    term_icf = {} #dict to hold the icf for each term in the training documents over all classes\n",
    "    for term in all_class_toks.keys():\n",
    "        assert (len(all_class_toks[term]) > 0 and len(all_class_toks[term]) <= 5)\n",
    "        class_frequency = len(all_class_toks[term]) #class frequency is the length of the list for a token which contains the class labels for the classes that token is present in.\n",
    "        term_icf[term] = math.log10(num_classes / class_frequency) #icf value of a term is ratio of total number of classes to the number of classes the term appears in\n",
    "    return term_icf"
   ]
  },
  {
   "cell_type": "code",
   "execution_count": 95,
   "metadata": {},
   "outputs": [],
   "source": [
    "def feature_selection(term_icfs, class_wise_train_unique_tokens, class_wise_train_tfs, k):\n",
    "    '''\n",
    "        Implements the feature selection algorithm to select top k features from each class. Returns a dictionary with the key as class labels \n",
    "        and value is a list of top-k features of that class. Also returns a set which is the union of top-k features from each class i.e\n",
    "        it is the effective vocabulary.\n",
    "        Note: Feature selection is to be done over only the training dataset.\n",
    "    '''\n",
    "    class_wise_top_k = {} #dictionary holding class-wise top k features\n",
    "    total_feature_set = set() #set holding the union of top-k features for each class i.e effective vocabulary\n",
    "    for label in class_labels: #loop over the all the labels\n",
    "        class_unique_toks = class_wise_train_unique_tokens[label] #unique tokens present in the training set of that class\n",
    "        class_tfs = class_wise_train_tfs[label] #term frequencies of the terms present in the training set of that class\n",
    "        tf_icf_score = {} #tf_icf_score for the terms in that class\n",
    "        for tok in class_unique_toks: #iterate over all the unique tokens present in a particular class\n",
    "            tf_icf_tok = class_tfs[tok] * term_icfs[tok] #tf-icf score is the product of the term frequency of a term in the training set of the class\n",
    "            tf_icf_score[tok] = tf_icf_tok\n",
    "        sorted_tf_icf = dict(sorted(tf_icf_score.items(), key=lambda item: item[1], reverse=True)) #sort the tf-icf scores of the terms in descing order\n",
    "        top_k_class_features = list(sorted_tf_icf.keys())[:k] #select the top k terms with highest tf-icf score in the class\n",
    "        class_wise_top_k[label] = top_k_class_features #these are the top-k features of that particular class\n",
    "        total_feature_set.update(top_k_class_features) #update the combined feature set (effective vocab) with these top k features of this class\n",
    "    return class_wise_top_k, total_feature_set\n",
    "        "
   ]
  },
  {
   "cell_type": "code",
   "execution_count": 96,
   "metadata": {},
   "outputs": [],
   "source": [
    "def featurize_data(class_wise_tokens, feature_set):\n",
    "    '''\n",
    "        Featurizing the dataset i.e making the train_x, train_y, test_x, test_y according to the features we have selected.\n",
    "    '''\n",
    "\n",
    "    #Basically through this process we make the training X and Y, testing X and Y having those features that we have selected through the feature selection process\n",
    "\n",
    "    train_x = [] #holds the samples(feature values) for the training set\n",
    "    train_y = [] #holds the class labels corresponding to the samples of the training set\n",
    "    test_x = [] #holds the samples(feature values) for the testing set\n",
    "    test_y = [] #holds the class labels corresponding to the samples of the testing set\n",
    "\n",
    "    for label in class_labels: #iterate over all the class labels\n",
    "        \n",
    "        class_train_doc = class_wise_tokens[label]['train'] #document-wise tokens for the documents in the training set of the particular class\n",
    "        class_test_doc = class_wise_tokens[label]['test'] #document-wise tokens for the documents in the testing set of the particular class\n",
    "\n",
    "        for doc_toks in class_train_doc: #iterate over the list of document-wise tokens for the documents in the training set of the particular class\n",
    "            doc_feature = []\n",
    "            doc_tfs = dict(Counter(doc_toks)) #Term frequencies in a document for the tokens in the training doc\n",
    "            for i, tok in enumerate(feature_set): #iterate over the tokens/words in combined feature set/effective vocab\n",
    "                if(tok in doc_tfs.keys()): #if the word is present in this training document\n",
    "                    doc_feature.append(doc_tfs[tok]) #the feature value will be the term frequency of this term in this training document\n",
    "                else: #if the word is present in this training document\n",
    "                    doc_feature.append(0) #the feature value will be zero\n",
    "            train_x.append(doc_feature)\n",
    "            train_y.append(label)\n",
    "        \n",
    "        #repeat the same process for the testing set documents\n",
    "        for doc_toks in class_test_doc:\n",
    "            doc_feature = []\n",
    "            doc_tfs = dict(Counter(doc_toks))\n",
    "            for i, tok in enumerate(feature_set):\n",
    "                if(tok in doc_tfs.keys()):\n",
    "                    doc_feature.append(doc_tfs[tok])\n",
    "                else:\n",
    "                    doc_feature.append(0)\n",
    "            test_x.append(doc_feature)\n",
    "            test_y.append(label)\n",
    "    \n",
    "    return train_x, test_x, train_y, test_y"
   ]
  },
  {
   "cell_type": "code",
   "execution_count": 97,
   "metadata": {},
   "outputs": [],
   "source": [
    "def train_naive_bayes(train_x, train_y):\n",
    "    '''\n",
    "        This function is used for training of the Naive Bayes Model. Returns the prior and class conditional probabilities\n",
    "    '''\n",
    "    num_features = len(train_x[0])\n",
    "    prior_prob = {} #A dictionary to store the prior probabilities of the classes\n",
    "    conditional_prob = {label:{} for label in class_labels} #dictionary to store the class conditional pro\n",
    "    class_feature_cum = {label:{feat:0 for feat in range(num_features)} for label in class_labels} #cumulative class-wise stats for each selected feature.\n",
    "    #this is a nested dictionary where the outer dictionary has key as the class_label and value as another dictionary which stores the frequency of each feature(word) in that class.\n",
    "    total_class_samples = len(train_y)\n",
    "    class_wise_count = dict(Counter(train_y)) #class-wise count of samples ie- no. of training sample of each class\n",
    "    for label in class_labels: #iterate over all class labels\n",
    "        prior_prob[label] = float(class_wise_count[label]) / float(total_class_samples) #prior probab of class is ratio of the class_samples to the total_number_of_samples\n",
    "    for i in range(total_class_samples): #this loop constructs the class_feature_cum dictionary which will be used for conditional probability calculation\n",
    "        sample_label = train_y[i]\n",
    "        for j in range(num_features):\n",
    "            class_feature_cum[sample_label][j] += train_x[i][j]\n",
    "    alpha = 1 #for laplace add one smoothing\n",
    "    for label in class_labels:\n",
    "        for feature in range(num_features):\n",
    "            conditional_prob[label][feature] = float(class_feature_cum[label][feature] + alpha ) / float(sum(class_feature_cum[label].values()) + (num_features*alpha)) #conditional probab of a feature(word) wrt a class is the ratio of number of occurences of that word in that particular class divided by the sum of frequencies of all features(words) wrt that class.\n",
    "    \n",
    "    return prior_prob, conditional_prob\n",
    "\n",
    "def predict_naive_bayes(test_x, prior_prob, conditional_prob):\n",
    "    '''\n",
    "        This function is used for calculating the predicitons for a trained Naive Bayes model. Input is the testing set samples and the trained model's\n",
    "        prior probability and conditional probabilities.\n",
    "    '''\n",
    "\n",
    "    #Note: Here instead of calculating the posterior we calculate the log of posterior (doesn't affect the answer because log is increasing function). \n",
    "    # This is done to prevent underflow due to multiplication of very small probability values. Thus the multiplication of probabilities effectively transforms to\n",
    "    # addition of log probabilities.\n",
    "    predictions = []\n",
    "    for sample in test_x: #for each sample in the testing set\n",
    "        posterior_probs = {} #dictionary to hold the posterior probability for each class\n",
    "        for label in class_labels: #iterate over all the labels\n",
    "            probab = math.log10(prior_prob[label])  #prior probability part\n",
    "            for feature in range(len(sample)): #for each feature in feature set\n",
    "                if(sample[feature] != 0): #if the feature value is non zero i.e the word is present in the testing sample\n",
    "                    probab += (math.log10(conditional_prob[label][feature]) * sample[feature]) #we add the log conditional probability of that feature 'x' times where 'x' is the frequency of that word in the sample\n",
    "            posterior_probs[label] = probab\n",
    "        pred_label = max(posterior_probs, key= lambda x: posterior_probs[x]) #the predicted label is the key value corresponding to maximum posterior probability\n",
    "        predictions.append(pred_label)\n",
    "    return predictions\n",
    "\n",
    "def compute_accuracy(true_y, pred_y):\n",
    "    '''\n",
    "        Function to compute accuracy\n",
    "    '''\n",
    "    correct = 0\n",
    "    total = len(true_y)\n",
    "    for i in range(total):\n",
    "        if(true_y[i] == pred_y[i]):\n",
    "            correct += 1\n",
    "    accuracy = float(correct) / float(total)\n",
    "    return accuracy\n",
    "\n",
    "def calculate_confusion_matrix(true_y, pred_y):\n",
    "    '''\n",
    "        Function to calculate confusion matrix\n",
    "    '''\n",
    "    conf_matrix = np.zeros((len(class_labels), len(class_labels)))\n",
    "    for i in range(len(true_y)):\n",
    "        conf_matrix[true_y[i]][pred_y[i]] += 1\n",
    "    return conf_matrix\n",
    "\n",
    "def plot_confusion_matrix(conf_matrix, fig_name, save=False):\n",
    "    plt.figure(figsize=(8,6))\n",
    "    sbn.heatmap(conf_matrix, annot=True)\n",
    "    plt.ylabel(\"True label\")\n",
    "    plt.xlabel(\"Predicted label\")\n",
    "    if(save == True):\n",
    "        plt.savefig(fig_name, bbox_inches='tight', facecolor='w')\n",
    "    plt.show()"
   ]
  },
  {
   "cell_type": "code",
   "execution_count": 98,
   "metadata": {},
   "outputs": [],
   "source": [
    "def run_question3(train_ratio, k):\n",
    "        \n",
    "    class_wise_data = splitData(class_names, data_folder, train_ratio)\n",
    "    print(\">> Processing Data\")\n",
    "    class_wise_tokens, class_wise_train_unique_tokens, class_wise_train_tfs = process_data(class_wise_data, class_labels)\n",
    "\n",
    "    print(\">> Computing term ICFs\")\n",
    "    term_icfs = compute_icf(class_wise_train_unique_tokens)\n",
    "\n",
    "    print(\">> Performing feature selection\")\n",
    "    class_wise_top_k, feature_set = feature_selection(term_icfs, class_wise_train_unique_tokens, class_wise_train_tfs, k)\n",
    "\n",
    "    # print(f\"\\nAfter selecting top {k} features from each class, Total Feature-set(Vocab) size = {len(feature_set)}\\n\")\n",
    "    \n",
    "    print(\">> Featurizing dataset\")\n",
    "    train_x, test_x, train_y, test_y = featurize_data(class_wise_tokens, feature_set)\n",
    "\n",
    "    print(\">> Training Naive Bayes Model\")\n",
    "    prior_prob, conditional_prob = train_naive_bayes(train_x, train_y)\n",
    "\n",
    "    print(\">> Testing Naive Bayes Model\")\n",
    "    predicted_labels = predict_naive_bayes(test_x, prior_prob, conditional_prob)\n",
    "\n",
    "    accuracy_value = compute_accuracy(test_y, predicted_labels)\n",
    "    print(f\"Accuracy = {accuracy_value * 100}%\")\n",
    "    conf_matrix = calculate_confusion_matrix(test_y, predicted_labels)\n",
    "    print(f\"\\nConfusion Matrix: \\n{conf_matrix}\")\n",
    "\n",
    "    return accuracy_value, conf_matrix\n"
   ]
  },
  {
   "cell_type": "code",
   "execution_count": 103,
   "metadata": {},
   "outputs": [
    {
     "name": "stdout",
     "output_type": "stream",
     "text": [
      "Value of k (for feature selection) = 50\n",
      "Class name to label mapping : {'comp.graphics': 0, 'sci.med': 1, 'talk.politics.misc': 2, 'rec.sport.hockey': 3, 'sci.space': 4}\n",
      "\n",
      "\n",
      "-------------Training set size = 50.0% total data---------------------\n",
      "\n",
      ">> Processing Data\n"
     ]
    },
    {
     "name": "stderr",
     "output_type": "stream",
     "text": [
      "100%|██████████| 5/5 [00:34<00:00,  6.92s/it]\n"
     ]
    },
    {
     "name": "stdout",
     "output_type": "stream",
     "text": [
      ">> Computing term ICFs\n",
      ">> Performing feature selection\n",
      ">> Featurizing dataset\n",
      ">> Training Naive Bayes Model\n",
      ">> Testing Naive Bayes Model\n",
      "Accuracy = 98.76%\n",
      "\n",
      "Confusion Matrix: \n",
      "[[493.   3.   0.   0.   4.]\n",
      " [  5. 488.   2.   4.   1.]\n",
      " [  0.   1. 496.   2.   1.]\n",
      " [  0.   0.   0. 500.   0.]\n",
      " [  4.   1.   3.   0. 492.]]\n"
     ]
    },
    {
     "data": {
      "image/png": "[encoded data removed]",
      "text/plain": [
       "<Figure size 576x432 with 2 Axes>"
      ]
     },
     "metadata": {
      "needs_background": "light"
     },
     "output_type": "display_data"
    },
    {
     "name": "stdout",
     "output_type": "stream",
     "text": [
      "\n",
      "---------------------------------------------------------------\n",
      "\n",
      "-------------Training set size = 70.0% total data---------------------\n",
      "\n",
      ">> Processing Data\n"
     ]
    },
    {
     "name": "stderr",
     "output_type": "stream",
     "text": [
      "100%|██████████| 5/5 [00:31<00:00,  6.32s/it]\n"
     ]
    },
    {
     "name": "stdout",
     "output_type": "stream",
     "text": [
      ">> Computing term ICFs\n",
      ">> Performing feature selection\n",
      ">> Featurizing dataset\n",
      ">> Training Naive Bayes Model\n",
      ">> Testing Naive Bayes Model\n",
      "Accuracy = 98.8%\n",
      "\n",
      "Confusion Matrix: \n",
      "[[299.   0.   0.   1.   0.]\n",
      " [  6. 293.   0.   0.   1.]\n",
      " [  0.   3. 295.   1.   1.]\n",
      " [  0.   0.   0. 300.   0.]\n",
      " [  4.   0.   1.   0. 295.]]\n"
     ]
    },
    {
     "data": {
      "image/png": "[encoded data removed]",
      "text/plain": [
       "<Figure size 576x432 with 2 Axes>"
      ]
     },
     "metadata": {
      "needs_background": "light"
     },
     "output_type": "display_data"
    },
    {
     "name": "stdout",
     "output_type": "stream",
     "text": [
      "\n",
      "---------------------------------------------------------------\n",
      "\n",
      "-------------Training set size = 80.0% total data---------------------\n",
      "\n",
      ">> Processing Data\n"
     ]
    },
    {
     "name": "stderr",
     "output_type": "stream",
     "text": [
      "100%|██████████| 5/5 [00:31<00:00,  6.33s/it]\n"
     ]
    },
    {
     "name": "stdout",
     "output_type": "stream",
     "text": [
      ">> Computing term ICFs\n",
      ">> Performing feature selection\n",
      ">> Featurizing dataset\n",
      ">> Training Naive Bayes Model\n",
      ">> Testing Naive Bayes Model\n",
      "Accuracy = 98.9%\n",
      "\n",
      "Confusion Matrix: \n",
      "[[199.   0.   0.   1.   0.]\n",
      " [  3. 197.   0.   0.   0.]\n",
      " [  0.   2. 198.   0.   0.]\n",
      " [  0.   0.   0. 200.   0.]\n",
      " [  5.   0.   0.   0. 195.]]\n"
     ]
    },
    {
     "data": {
      "image/png": "[encoded data removed]",
      "text/plain": [
       "<Figure size 576x432 with 2 Axes>"
      ]
     },
     "metadata": {
      "needs_background": "light"
     },
     "output_type": "display_data"
    },
    {
     "name": "stdout",
     "output_type": "stream",
     "text": [
      "\n",
      "---------------------------------------------------------------\n"
     ]
    }
   ],
   "source": [
    "\n",
    "train_ratios = [0.5, 0.7, 0.8]\n",
    "k = int(input(\"Enter the value of k : \"))\n",
    "print(f\"Value of k (for feature selection) = {k}\")\n",
    "print(f\"Class name to label mapping : {class_name_to_label}\\n\")\n",
    "for i in range(len(train_ratios)):\n",
    "    # random.seed()\n",
    "    print(f\"\\n-------------Training set size = {train_ratios[i] * 100}% total data---------------------\\n\")\n",
    "    accuracy, conf_matrix = run_question3(train_ratios[i], k)\n",
    "    plot_confusion_matrix(conf_matrix, f\"conf_matrix_k_{k}_train_{i}.png\", save=True)\n",
    "    print(\"\\n---------------------------------------------------------------\")\n",
    "     "
   ]
  }
 ],
 "metadata": {
  "interpreter": {
   "hash": "2370e07001db70a9c24f7e21173c51fbc4321340913a02830aed4885459fa0a0"
  },
  "kernelspec": {
   "display_name": "Python 3.8.10 64-bit",
   "language": "python",
   "name": "python3"
  },
  "language_info": {
   "codemirror_mode": {
    "name": "ipython",
    "version": 3
   },
   "file_extension": ".py",
   "mimetype": "text/x-python",
   "name": "python",
   "nbconvert_exporter": "python",
   "pygments_lexer": "ipython3",
   "version": "3.8.10"
  },
  "orig_nbformat": 4
 },
 "nbformat": 4,
 "nbformat_minor": 2
}
